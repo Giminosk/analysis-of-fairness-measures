{
  "nbformat": 4,
  "nbformat_minor": 0,
  "metadata": {
    "colab": {
      "provenance": [],
      "collapsed_sections": []
    },
    "kernelspec": {
      "name": "python3",
      "display_name": "Python 3"
    },
    "language_info": {
      "name": "python"
    }
  },
  "cells": [
    {
      "cell_type": "markdown",
      "source": [
        "# Download and exctact the Dataset"
      ],
      "metadata": {
        "id": "wiSj2OiiJPkz"
      }
    },
    {
      "cell_type": "code",
      "execution_count": 10,
      "metadata": {
        "colab": {
          "base_uri": "https://localhost:8080/"
        },
        "id": "DOHpFaQM4H_S",
        "outputId": "9caf4188-fa7b-4fbb-85f7-b69bbbcce3e6"
      },
      "outputs": [
        {
          "output_type": "stream",
          "name": "stdout",
          "text": [
            "--2022-11-15 12:22:25--  https://docs.google.com/uc?export=download&confirm=t&id=1V7xs7gMsLm6T0C4TipEtla9gZTiLzDxA\n",
            "Resolving docs.google.com (docs.google.com)... 142.251.2.101, 142.251.2.113, 142.251.2.138, ...\n",
            "Connecting to docs.google.com (docs.google.com)|142.251.2.101|:443... connected.\n",
            "HTTP request sent, awaiting response... 303 See Other\n",
            "Location: https://doc-14-84-docs.googleusercontent.com/docs/securesc/ha0ro937gcuc7l7deffksulhg5h7mbp1/nmfb8obvaggjfgemvck00klas24n0q89/1668514875000/17724475218651015314/*/1V7xs7gMsLm6T0C4TipEtla9gZTiLzDxA?e=download&uuid=7c6317b8-febc-43e1-b2ca-3de5b8ed1d1b [following]\n",
            "Warning: wildcards not supported in HTTP.\n",
            "--2022-11-15 12:22:25--  https://doc-14-84-docs.googleusercontent.com/docs/securesc/ha0ro937gcuc7l7deffksulhg5h7mbp1/nmfb8obvaggjfgemvck00klas24n0q89/1668514875000/17724475218651015314/*/1V7xs7gMsLm6T0C4TipEtla9gZTiLzDxA?e=download&uuid=7c6317b8-febc-43e1-b2ca-3de5b8ed1d1b\n",
            "Resolving doc-14-84-docs.googleusercontent.com (doc-14-84-docs.googleusercontent.com)... 142.251.2.132, 2607:f8b0:4023:c0d::84\n",
            "Connecting to doc-14-84-docs.googleusercontent.com (doc-14-84-docs.googleusercontent.com)|142.251.2.132|:443... connected.\n",
            "HTTP request sent, awaiting response... 200 OK\n",
            "Length: 1640839445 (1.5G) [application/x-zip-compressed]\n",
            "Saving to: ‘data.zip’\n",
            "\n",
            "data.zip            100%[===================>]   1.53G   153MB/s    in 9.8s    \n",
            "\n",
            "2022-11-15 12:22:35 (160 MB/s) - ‘data.zip’ saved [1640839445/1640839445]\n",
            "\n"
          ]
        }
      ],
      "source": [
        "!wget --load-cookies /tmp/cookies.txt \"https://docs.google.com/uc?export=download&confirm=$(wget --quiet --save-cookies /tmp/cookies.txt --keep-session-cookies --no-check-certificate 'https://docs.google.com/uc?export=download&id=1V7xs7gMsLm6T0C4TipEtla9gZTiLzDxA' -O- | sed -rn 's/.*confirm=([0-9A-Za-z_]+).*/\\1\\n/p')&id=1V7xs7gMsLm6T0C4TipEtla9gZTiLzDxA\" -O data.zip && rm -rf /tmp/cookies.txt"
      ]
    },
    {
      "cell_type": "code",
      "source": [
        "!unzip data.zip"
      ],
      "metadata": {
        "colab": {
          "base_uri": "https://localhost:8080/"
        },
        "id": "9JZ5kSbS5vT1",
        "outputId": "c063cb4d-b6f8-4c84-c050-031dad7ca9a7"
      },
      "execution_count": 11,
      "outputs": [
        {
          "output_type": "stream",
          "name": "stdout",
          "text": [
            "Archive:  data.zip\n",
            "  inflating: Set(08,56).bin          \n"
          ]
        }
      ]
    },
    {
      "cell_type": "code",
      "source": [
        "!rm data.zip"
      ],
      "metadata": {
        "id": "qzMVvPlvkWU-"
      },
      "execution_count": 12,
      "outputs": []
    },
    {
      "cell_type": "code",
      "source": [
        "!ls -lah"
      ],
      "metadata": {
        "id": "IMdcFWUf4jrO",
        "outputId": "061cf328-2f36-4c48-f7cb-9860d6aae95d",
        "colab": {
          "base_uri": "https://localhost:8080/"
        }
      },
      "execution_count": 13,
      "outputs": [
        {
          "output_type": "stream",
          "name": "stdout",
          "text": [
            "total 4.2G\n",
            "drwxr-xr-x 1 root root 4.0K Nov 15 12:23  .\n",
            "drwxr-xr-x 1 root root 4.0K Nov 15 10:04  ..\n",
            "drwxr-xr-x 4 root root 4.0K Nov 11 14:31  .config\n",
            "drwxr-xr-x 1 root root 4.0K Nov 11 14:32  sample_data\n",
            "-rw-r--r-- 1 root root 4.2G Oct 26 01:24 'Set(08,56).bin'\n"
          ]
        }
      ]
    },
    {
      "cell_type": "markdown",
      "source": [
        "# Import libraries and define functions"
      ],
      "metadata": {
        "id": "AZvJFJUMJc-3"
      }
    },
    {
      "cell_type": "code",
      "source": [
        "import numpy as np\n",
        "import pandas as pd\n",
        "import pickle\n",
        "import gc"
      ],
      "metadata": {
        "id": "frbcDgnJ80wQ"
      },
      "execution_count": null,
      "outputs": []
    },
    {
      "cell_type": "code",
      "source": [
        "def getGroupRatios(df):\n",
        "  return (df.j_tp + df.j_fp + df.j_tn + df.j_fn) / (df.i_tp + df.i_fp + df.i_tn + df.i_fn + df.j_tp + df.j_fp + df.j_tn + df.j_fn)\n",
        "\n",
        "def getImbalanceRatios(df):\n",
        "    return (df.i_tp + df.i_fn + df.j_tp + df.j_fn) / (df.i_tp + df.i_fp + df.i_tn + df.i_fn + df.j_tp + df.j_fp + df.j_tn + df.j_fn)\n",
        "\n",
        "def getTPR_i(df):\n",
        "    return df.i_tp / (df.i_tp + df.i_fn)\n",
        "\n",
        "def getTPR_j(df):\n",
        "    return df.j_tp / (df.j_tp + df.j_fn)\n",
        "\n",
        "def getFPR_i(df):\n",
        "    return df.i_fp / (df.i_fp + df.i_tn)\n",
        "\n",
        "def getFPR_j(df):\n",
        "    return df.j_fp / (df.j_fp + df.j_tn)\n",
        "\n",
        "def getPositivePredictiveValue_i(df):\n",
        "    return df.i_tp / (df.i_tp + df.i_fp)\n",
        "\n",
        "def getPositivePredictiveValue_j(df):\n",
        "    return df.j_tp / (df.j_tp + df.j_fp)\n",
        "\n",
        "def getNegativePredictiveValue_i(df):\n",
        "    return df.i_tn / (df.i_tn + df.i_fn)\n",
        "\n",
        "def getNegativePredictiveValue_j(df):\n",
        "    return df.j_tn / (df.j_tn + df.j_fn)"
      ],
      "metadata": {
        "id": "CdR2Bq64wsxZ"
      },
      "execution_count": null,
      "outputs": []
    },
    {
      "cell_type": "code",
      "source": [
        "dataCols = ['i_tp', 'i_fp', 'i_tn', 'i_fn', 'j_tp', 'j_fp', 'j_tn', 'j_fn']"
      ],
      "metadata": {
        "id": "aIFv_6CH0NDM"
      },
      "execution_count": null,
      "outputs": []
    },
    {
      "cell_type": "markdown",
      "source": [
        "# Write calculations of the 1st half of the dataset\n",
        "As the dataset is quite large (4.2 Gb) we will write calculations in separate files in 2 stages."
      ],
      "metadata": {
        "id": "o3RXj2g1wILz"
      }
    },
    {
      "cell_type": "code",
      "source": [
        "# Get half of the data\n",
        "with open(\"Set(08,56).bin\", \"rb\") as f:\n",
        "    df = pd.DataFrame(pickle.load(f), columns = dataCols)\n",
        "\n",
        "halfIdx = int(df.shape[0]/2)\n",
        "df = df.iloc[:halfIdx]\n",
        "df.head()"
      ],
      "metadata": {
        "id": "bnGu5_3kaTaR",
        "colab": {
          "base_uri": "https://localhost:8080/",
          "height": 206
        },
        "outputId": "e80e6a67-7334-4cdc-de74-f57b266ca294"
      },
      "execution_count": null,
      "outputs": [
        {
          "output_type": "execute_result",
          "data": {
            "text/plain": [
              "   i_tp  i_fp  i_tn  i_fn  j_tp  j_fp  j_tn  j_fn\n",
              "0    56     0     0     0     0     0     0     0\n",
              "1    55     1     0     0     0     0     0     0\n",
              "2    55     0     1     0     0     0     0     0\n",
              "3    55     0     0     1     0     0     0     0\n",
              "4    55     0     0     0     1     0     0     0"
            ],
            "text/html": [
              "\n",
              "  <div id=\"df-c3857273-4b0c-43c5-8725-cbc06f0ac703\">\n",
              "    <div class=\"colab-df-container\">\n",
              "      <div>\n",
              "<style scoped>\n",
              "    .dataframe tbody tr th:only-of-type {\n",
              "        vertical-align: middle;\n",
              "    }\n",
              "\n",
              "    .dataframe tbody tr th {\n",
              "        vertical-align: top;\n",
              "    }\n",
              "\n",
              "    .dataframe thead th {\n",
              "        text-align: right;\n",
              "    }\n",
              "</style>\n",
              "<table border=\"1\" class=\"dataframe\">\n",
              "  <thead>\n",
              "    <tr style=\"text-align: right;\">\n",
              "      <th></th>\n",
              "      <th>i_tp</th>\n",
              "      <th>i_fp</th>\n",
              "      <th>i_tn</th>\n",
              "      <th>i_fn</th>\n",
              "      <th>j_tp</th>\n",
              "      <th>j_fp</th>\n",
              "      <th>j_tn</th>\n",
              "      <th>j_fn</th>\n",
              "    </tr>\n",
              "  </thead>\n",
              "  <tbody>\n",
              "    <tr>\n",
              "      <th>0</th>\n",
              "      <td>56</td>\n",
              "      <td>0</td>\n",
              "      <td>0</td>\n",
              "      <td>0</td>\n",
              "      <td>0</td>\n",
              "      <td>0</td>\n",
              "      <td>0</td>\n",
              "      <td>0</td>\n",
              "    </tr>\n",
              "    <tr>\n",
              "      <th>1</th>\n",
              "      <td>55</td>\n",
              "      <td>1</td>\n",
              "      <td>0</td>\n",
              "      <td>0</td>\n",
              "      <td>0</td>\n",
              "      <td>0</td>\n",
              "      <td>0</td>\n",
              "      <td>0</td>\n",
              "    </tr>\n",
              "    <tr>\n",
              "      <th>2</th>\n",
              "      <td>55</td>\n",
              "      <td>0</td>\n",
              "      <td>1</td>\n",
              "      <td>0</td>\n",
              "      <td>0</td>\n",
              "      <td>0</td>\n",
              "      <td>0</td>\n",
              "      <td>0</td>\n",
              "    </tr>\n",
              "    <tr>\n",
              "      <th>3</th>\n",
              "      <td>55</td>\n",
              "      <td>0</td>\n",
              "      <td>0</td>\n",
              "      <td>1</td>\n",
              "      <td>0</td>\n",
              "      <td>0</td>\n",
              "      <td>0</td>\n",
              "      <td>0</td>\n",
              "    </tr>\n",
              "    <tr>\n",
              "      <th>4</th>\n",
              "      <td>55</td>\n",
              "      <td>0</td>\n",
              "      <td>0</td>\n",
              "      <td>0</td>\n",
              "      <td>1</td>\n",
              "      <td>0</td>\n",
              "      <td>0</td>\n",
              "      <td>0</td>\n",
              "    </tr>\n",
              "  </tbody>\n",
              "</table>\n",
              "</div>\n",
              "      <button class=\"colab-df-convert\" onclick=\"convertToInteractive('df-c3857273-4b0c-43c5-8725-cbc06f0ac703')\"\n",
              "              title=\"Convert this dataframe to an interactive table.\"\n",
              "              style=\"display:none;\">\n",
              "        \n",
              "  <svg xmlns=\"http://www.w3.org/2000/svg\" height=\"24px\"viewBox=\"0 0 24 24\"\n",
              "       width=\"24px\">\n",
              "    <path d=\"M0 0h24v24H0V0z\" fill=\"none\"/>\n",
              "    <path d=\"M18.56 5.44l.94 2.06.94-2.06 2.06-.94-2.06-.94-.94-2.06-.94 2.06-2.06.94zm-11 1L8.5 8.5l.94-2.06 2.06-.94-2.06-.94L8.5 2.5l-.94 2.06-2.06.94zm10 10l.94 2.06.94-2.06 2.06-.94-2.06-.94-.94-2.06-.94 2.06-2.06.94z\"/><path d=\"M17.41 7.96l-1.37-1.37c-.4-.4-.92-.59-1.43-.59-.52 0-1.04.2-1.43.59L10.3 9.45l-7.72 7.72c-.78.78-.78 2.05 0 2.83L4 21.41c.39.39.9.59 1.41.59.51 0 1.02-.2 1.41-.59l7.78-7.78 2.81-2.81c.8-.78.8-2.07 0-2.86zM5.41 20L4 18.59l7.72-7.72 1.47 1.35L5.41 20z\"/>\n",
              "  </svg>\n",
              "      </button>\n",
              "      \n",
              "  <style>\n",
              "    .colab-df-container {\n",
              "      display:flex;\n",
              "      flex-wrap:wrap;\n",
              "      gap: 12px;\n",
              "    }\n",
              "\n",
              "    .colab-df-convert {\n",
              "      background-color: #E8F0FE;\n",
              "      border: none;\n",
              "      border-radius: 50%;\n",
              "      cursor: pointer;\n",
              "      display: none;\n",
              "      fill: #1967D2;\n",
              "      height: 32px;\n",
              "      padding: 0 0 0 0;\n",
              "      width: 32px;\n",
              "    }\n",
              "\n",
              "    .colab-df-convert:hover {\n",
              "      background-color: #E2EBFA;\n",
              "      box-shadow: 0px 1px 2px rgba(60, 64, 67, 0.3), 0px 1px 3px 1px rgba(60, 64, 67, 0.15);\n",
              "      fill: #174EA6;\n",
              "    }\n",
              "\n",
              "    [theme=dark] .colab-df-convert {\n",
              "      background-color: #3B4455;\n",
              "      fill: #D2E3FC;\n",
              "    }\n",
              "\n",
              "    [theme=dark] .colab-df-convert:hover {\n",
              "      background-color: #434B5C;\n",
              "      box-shadow: 0px 1px 3px 1px rgba(0, 0, 0, 0.15);\n",
              "      filter: drop-shadow(0px 1px 2px rgba(0, 0, 0, 0.3));\n",
              "      fill: #FFFFFF;\n",
              "    }\n",
              "  </style>\n",
              "\n",
              "      <script>\n",
              "        const buttonEl =\n",
              "          document.querySelector('#df-c3857273-4b0c-43c5-8725-cbc06f0ac703 button.colab-df-convert');\n",
              "        buttonEl.style.display =\n",
              "          google.colab.kernel.accessAllowed ? 'block' : 'none';\n",
              "\n",
              "        async function convertToInteractive(key) {\n",
              "          const element = document.querySelector('#df-c3857273-4b0c-43c5-8725-cbc06f0ac703');\n",
              "          const dataTable =\n",
              "            await google.colab.kernel.invokeFunction('convertToInteractive',\n",
              "                                                     [key], {});\n",
              "          if (!dataTable) return;\n",
              "\n",
              "          const docLinkHtml = 'Like what you see? Visit the ' +\n",
              "            '<a target=\"_blank\" href=https://colab.research.google.com/notebooks/data_table.ipynb>data table notebook</a>'\n",
              "            + ' to learn more about interactive tables.';\n",
              "          element.innerHTML = '';\n",
              "          dataTable['output_type'] = 'display_data';\n",
              "          await google.colab.output.renderOutput(dataTable, element);\n",
              "          const docLink = document.createElement('div');\n",
              "          docLink.innerHTML = docLinkHtml;\n",
              "          element.appendChild(docLink);\n",
              "        }\n",
              "      </script>\n",
              "    </div>\n",
              "  </div>\n",
              "  "
            ]
          },
          "metadata": {},
          "execution_count": 4
        }
      ]
    },
    {
      "cell_type": "code",
      "source": [
        "df.info(memory_usage=\"deep\")"
      ],
      "metadata": {
        "colab": {
          "base_uri": "https://localhost:8080/"
        },
        "id": "tCq6NgtX7fye",
        "outputId": "9fb76b21-36a5-4d91-ed62-69fa1405449b"
      },
      "execution_count": null,
      "outputs": [
        {
          "output_type": "stream",
          "name": "stdout",
          "text": [
            "<class 'pandas.core.frame.DataFrame'>\n",
            "RangeIndex: 276635335 entries, 0 to 276635334\n",
            "Data columns (total 8 columns):\n",
            " #   Column  Dtype\n",
            "---  ------  -----\n",
            " 0   i_tp    int8 \n",
            " 1   i_fp    int8 \n",
            " 2   i_tn    int8 \n",
            " 3   i_fn    int8 \n",
            " 4   j_tp    int8 \n",
            " 5   j_fp    int8 \n",
            " 6   j_tn    int8 \n",
            " 7   j_fn    int8 \n",
            "dtypes: int8(8)\n",
            "memory usage: 2.1 GB\n"
          ]
        }
      ]
    },
    {
      "cell_type": "code",
      "source": [
        "# Calculate half of GRs\n",
        "with open(\"gr.bin\", \"wb+\") as f:\n",
        "    getGroupRatios(df).to_numpy().tofile(f)\n",
        "\n",
        "# Calculate half of IRs\n",
        "with open(\"ir.bin\", \"wb+\") as f:\n",
        "    getImbalanceRatios(df).to_numpy().tofile(f)\n",
        "\n",
        "# Calculate half of Matrix Measures\n",
        "with open(\"i_tpr.bin\", \"wb+\") as f:\n",
        "    getTPR_i(df).to_numpy().tofile(f)\n",
        "\n",
        "with open(\"j_tpr.bin\", \"wb+\") as f:\n",
        "    getTPR_j(df).to_numpy().tofile(f)\n",
        "\n",
        "with open(\"i_fpr.bin\", \"wb+\") as f:\n",
        "    getFPR_i(df).to_numpy().tofile(f)\n",
        "\n",
        "with open(\"j_fpr.bin\", \"wb+\") as f:\n",
        "    getFPR_j(df).to_numpy().tofile(f)\n",
        "\n",
        "with open(\"i_ppv.bin\", \"wb+\") as f:\n",
        "    getPositivePredictiveValue_i(df).to_numpy().tofile(f)\n",
        "\n",
        "with open(\"j_ppv.bin\", \"wb+\") as f:\n",
        "    getPositivePredictiveValue_j(df).to_numpy().tofile(f)\n",
        "\n",
        "with open(\"i_npv.bin\", \"wb+\") as f:\n",
        "    getNegativePredictiveValue_i(df).to_numpy().tofile(f)\n",
        "\n",
        "with open(\"j_npv.bin\", \"wb+\") as f:\n",
        "    getNegativePredictiveValue_j(df).to_numpy().tofile(f)"
      ],
      "metadata": {
        "id": "2O6H_sXVlJFr"
      },
      "execution_count": null,
      "outputs": []
    },
    {
      "cell_type": "markdown",
      "source": [
        "# Append calculations of the 2st half of the dataset"
      ],
      "metadata": {
        "id": "IZ1G6RB4wdby"
      }
    },
    {
      "cell_type": "code",
      "source": [
        "# Free the memory\n",
        "del df\n",
        "gc.collect()\n",
        "gc.get_stats()"
      ],
      "metadata": {
        "colab": {
          "base_uri": "https://localhost:8080/"
        },
        "id": "IOM4_MRzykZi",
        "outputId": "26c0fd73-d0a6-4c84-b354-da29990cf97f"
      },
      "execution_count": null,
      "outputs": [
        {
          "output_type": "execute_result",
          "data": {
            "text/plain": [
              "[{'collections': 374, 'collected': 3620, 'uncollectable': 0},\n",
              " {'collections': 36, 'collected': 300, 'uncollectable': 0},\n",
              " {'collections': 4, 'collected': 99, 'uncollectable': 0}]"
            ]
          },
          "metadata": {},
          "execution_count": 7
        }
      ]
    },
    {
      "cell_type": "code",
      "source": [
        "# Get half of the data\n",
        "with open(\"Set(08,56).bin\", \"rb\") as f:\n",
        "    df = pd.DataFrame(pickle.load(f), columns = dataCols)\n",
        "\n",
        "halfIdx = int(df.shape[0]/2)\n",
        "df = df.iloc[halfIdx:]"
      ],
      "metadata": {
        "id": "kYg-MGrluBpp"
      },
      "execution_count": null,
      "outputs": []
    },
    {
      "cell_type": "code",
      "source": [
        "# Calculate half of GRs\n",
        "with open(\"gr.bin\", \"ab+\") as f:\n",
        "    getGroupRatios(df).to_numpy().tofile(f)\n",
        "\n",
        "# Calculate half of IRs\n",
        "with open(\"ir.bin\", \"ab+\") as f:\n",
        "    getImbalanceRatios(df).to_numpy().tofile(f)\n",
        "\n",
        "# Calculate half of Matrix Measures\n",
        "with open(\"i_tpr.bin\", \"ab+\") as f:\n",
        "    getTPR_i(df).to_numpy().tofile(f)\n",
        "\n",
        "with open(\"j_tpr.bin\", \"ab+\") as f:\n",
        "    getTPR_j(df).to_numpy().tofile(f)\n",
        "\n",
        "with open(\"i_fpr.bin\", \"ab+\") as f:\n",
        "    getFPR_i(df).to_numpy().tofile(f)\n",
        "\n",
        "with open(\"j_fpr.bin\", \"ab+\") as f:\n",
        "    getFPR_j(df).to_numpy().tofile(f)\n",
        "\n",
        "with open(\"i_ppv.bin\", \"ab+\") as f:\n",
        "    getPositivePredictiveValue_i(df).to_numpy().tofile(f)\n",
        "\n",
        "with open(\"j_ppv.bin\", \"ab+\") as f:\n",
        "    getPositivePredictiveValue_j(df).to_numpy().tofile(f)\n",
        "\n",
        "with open(\"i_npv.bin\", \"ab+\") as f:\n",
        "    getNegativePredictiveValue_i(df).to_numpy().tofile(f)\n",
        "\n",
        "with open(\"j_npv.bin\", \"ab+\") as f:\n",
        "    getNegativePredictiveValue_j(df).to_numpy().tofile(f)"
      ],
      "metadata": {
        "id": "ZI6GFaih2eBR"
      },
      "execution_count": null,
      "outputs": []
    },
    {
      "cell_type": "markdown",
      "source": [
        "# Compress and download the calculations\n",
        "The files are written as `float64`, while the dataset has data-type `int8`, thus the size of each file is the same as the size of the dataset because each of them contains one 8 times heavier column."
      ],
      "metadata": {
        "id": "ig69H-P2IFrh"
      }
    },
    {
      "cell_type": "code",
      "source": [
        "!ls -lah"
      ],
      "metadata": {
        "colab": {
          "base_uri": "https://localhost:8080/"
        },
        "id": "Yi7xjX2_5h2D",
        "outputId": "ef1e77f6-fafa-4382-8547-b3556d2c567b"
      },
      "execution_count": null,
      "outputs": [
        {
          "output_type": "stream",
          "name": "stdout",
          "text": [
            "total 46G\n",
            "drwxr-xr-x 1 root root 4.0K Nov 15 12:18  .\n",
            "drwxr-xr-x 1 root root 4.0K Nov 15 10:04  ..\n",
            "drwxr-xr-x 4 root root 4.0K Nov 11 14:31  .config\n",
            "-rw-r--r-- 1 root root 4.2G Nov 15 11:36  gr.bin\n",
            "-rw-r--r-- 1 root root 4.2G Nov 15 11:37  i_fpr.bin\n",
            "-rw-r--r-- 1 root root 4.2G Nov 15 11:37  i_npv.bin\n",
            "-rw-r--r-- 1 root root 4.2G Nov 15 11:37  i_ppv.bin\n",
            "-rw-r--r-- 1 root root 4.2G Nov 15 11:36  ir.bin\n",
            "-rw-r--r-- 1 root root 4.2G Nov 15 11:36  i_tpr.bin\n",
            "-rw-r--r-- 1 root root 4.2G Nov 15 11:37  j_fpr.bin\n",
            "-rw-r--r-- 1 root root 4.2G Nov 15 11:37  j_npv.bin\n",
            "-rw-r--r-- 1 root root 4.2G Nov 15 11:37  j_ppv.bin\n",
            "-rw-r--r-- 1 root root 4.2G Nov 15 11:37  j_tpr.bin\n",
            "drwxr-xr-x 1 root root 4.0K Nov 11 14:32  sample_data\n",
            "-rw-r--r-- 1 root root 4.2G Oct 26 01:24 'Set(08,56).bin'\n"
          ]
        }
      ]
    },
    {
      "cell_type": "code",
      "source": [
        "!zip calculations.zip gr.bin ir.bin i_* j_*"
      ],
      "metadata": {
        "colab": {
          "base_uri": "https://localhost:8080/"
        },
        "id": "v4wlro8SS5LF",
        "outputId": "6eedbd63-0b40-408f-e6e9-52e043417144"
      },
      "execution_count": null,
      "outputs": [
        {
          "output_type": "stream",
          "name": "stdout",
          "text": [
            "updating: gr.bin (deflated 100%)\n",
            "updating: ir.bin (deflated 97%)\n",
            "updating: i_fpr.bin (deflated 100%)\n",
            "updating: i_npv.bin (deflated 100%)\n",
            "updating: i_ppv.bin (deflated 100%)\n",
            "updating: i_tpr.bin (deflated 100%)\n",
            "updating: j_fpr.bin (deflated 97%)\n",
            "updating: j_npv.bin (deflated 98%)\n",
            "updating: j_ppv.bin (deflated 95%)\n",
            "updating: j_tpr.bin (deflated 96%)\n"
          ]
        }
      ]
    },
    {
      "cell_type": "code",
      "source": [
        "from google.colab import files\n",
        "files.download(\"calculations.zip\")"
      ],
      "metadata": {
        "colab": {
          "base_uri": "https://localhost:8080/",
          "height": 17
        },
        "id": "kZnVE7iATO9u",
        "outputId": "382d67a6-0a18-4644-e4f5-f91e0c41e511"
      },
      "execution_count": null,
      "outputs": [
        {
          "output_type": "display_data",
          "data": {
            "text/plain": [
              "<IPython.core.display.Javascript object>"
            ],
            "application/javascript": [
              "\n",
              "    async function download(id, filename, size) {\n",
              "      if (!google.colab.kernel.accessAllowed) {\n",
              "        return;\n",
              "      }\n",
              "      const div = document.createElement('div');\n",
              "      const label = document.createElement('label');\n",
              "      label.textContent = `Downloading \"${filename}\": `;\n",
              "      div.appendChild(label);\n",
              "      const progress = document.createElement('progress');\n",
              "      progress.max = size;\n",
              "      div.appendChild(progress);\n",
              "      document.body.appendChild(div);\n",
              "\n",
              "      const buffers = [];\n",
              "      let downloaded = 0;\n",
              "\n",
              "      const channel = await google.colab.kernel.comms.open(id);\n",
              "      // Send a message to notify the kernel that we're ready.\n",
              "      channel.send({})\n",
              "\n",
              "      for await (const message of channel.messages) {\n",
              "        // Send a message to notify the kernel that we're ready.\n",
              "        channel.send({})\n",
              "        if (message.buffers) {\n",
              "          for (const buffer of message.buffers) {\n",
              "            buffers.push(buffer);\n",
              "            downloaded += buffer.byteLength;\n",
              "            progress.value = downloaded;\n",
              "          }\n",
              "        }\n",
              "      }\n",
              "      const blob = new Blob(buffers, {type: 'application/binary'});\n",
              "      const a = document.createElement('a');\n",
              "      a.href = window.URL.createObjectURL(blob);\n",
              "      a.download = filename;\n",
              "      div.appendChild(a);\n",
              "      a.click();\n",
              "      div.remove();\n",
              "    }\n",
              "  "
            ]
          },
          "metadata": {}
        },
        {
          "output_type": "display_data",
          "data": {
            "text/plain": [
              "<IPython.core.display.Javascript object>"
            ],
            "application/javascript": [
              "download(\"download_e2e4245f-c19e-4515-b276-8552f87fa802\", \"calculations.zip\", 785219344)"
            ]
          },
          "metadata": {}
        }
      ]
    }
  ]
}
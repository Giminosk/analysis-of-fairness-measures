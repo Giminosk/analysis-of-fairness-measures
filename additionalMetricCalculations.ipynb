{
 "cells": [
  {
   "cell_type": "markdown",
   "id": "e31264e1-b7b8-422b-93a0-c902474c9605",
   "metadata": {},
   "source": [
    "## Import libraries"
   ]
  },
  {
   "cell_type": "code",
   "execution_count": 7,
   "id": "4b073683-d7df-4dff-87be-d507e9799393",
   "metadata": {},
   "outputs": [],
   "source": [
    "import numpy as np\n",
    "import pandas as pd\n",
    "import pickle\n",
    "import gc"
   ]
  },
  {
   "cell_type": "markdown",
   "id": "42c10b40-684c-4101-b909-fdec732656ed",
   "metadata": {},
   "source": [
    "## Define functions"
   ]
  },
  {
   "cell_type": "code",
   "execution_count": 2,
   "id": "9efd9c40-61fb-4162-a090-6c7acb38247a",
   "metadata": {},
   "outputs": [],
   "source": [
    "#each group has the same probability of being classified with positive outcome\n",
    "def get_statistical_parity(df):\n",
    "    return ((df.j_tp + df.j_fp)/(df.j_tp + df.j_fp + df.j_tn + df.j_fn)) - ((df.i_tp + df.i_fp)/(df.i_tp + df.i_fp + df.i_tn + df.i_fn))\n",
    "\n",
    "\n",
    "#similiar to statistical parity, but using ratio\n",
    "def get_disparate_impact(df):\n",
    "    return ((df.j_tp + df.j_fp)/(df.j_tp + df.j_fp + df.j_tn + df.j_fn)) / ((df.i_tp + df.i_fp)/(df.i_tp + df.i_fp + df.i_tn + df.i_fn))\n",
    "\n",
    "\n",
    "#accuracy equality ratio\n",
    "def get_acc_equality_ratio(df):\n",
    "    return ((df.j_tp + df.j_tn)/(df.j_tp + df.j_fp + df.j_tn + df.j_fn)) / ((df.i_tp + df.i_tn)/(df.i_tp + df.i_fp + df.i_tn + df.i_fn))\n",
    "\n",
    "\n",
    "#accuracy equality difference\n",
    "def get_acc_equality_diff(df):\n",
    "    return ((df.j_tp + df.j_tn)/(df.j_tp + df.j_fp + df.j_tn + df.j_fn)) - ((df.i_tp + df.i_tn)/(df.i_tp + df.i_fp + df.i_tn + df.i_fn))\n",
    "\n",
    "\n",
    "#equal opportunity\n",
    "#ratio of true positive rates\n",
    "def get_equal_opp_ratio(j_tpr, i_tpr):\n",
    "    return j_tpr / i_tpr\n",
    "\n",
    "\n",
    "#equal opportunity\n",
    "#difference of true positive rates\n",
    "def get_equal_opp_diff(j_tpr, i_tpr):\n",
    "    return j_tpr - i_tpr\n",
    "\n",
    "\n",
    "#predictive equality ratio\n",
    "def get_pred_equality_ratio(j_fpr, i_fpr):\n",
    "    return j_fpr / i_fpr\n",
    "\n",
    "\n",
    "#predictive equality difference - false positive rate\n",
    "def get_pred_equality_diff(j_fpr, i_fpr):\n",
    "    return j_fpr - i_fpr\n",
    "\n",
    "\n",
    "#positive predictive parity ratio\n",
    "def get_pred_parity_ratio(j_ppv, i_ppv):\n",
    "    return j_ppv / i_ppv\n",
    "\n",
    "\n",
    "#positive predictive parity difference\n",
    "def get_pos_pred_parity_diff(j_ppv, i_ppv):\n",
    "    return j_ppv - i_ppv\n",
    "\n",
    "\n",
    "#negative predictive parity difference\n",
    "def get_neg_pred_parity_ratio(j_npv, i_npv):\n",
    "    return j_npv / i_npv\n",
    "\n",
    "\n",
    "#negative predictive parity difference\n",
    "def get_neg_pred_parity_diff(j_npv, i_npv):\n",
    "    return j_npv - i_npv"
   ]
  },
  {
   "cell_type": "markdown",
   "id": "deb9e761-3294-438e-afa0-6dfed7f0e97a",
   "metadata": {},
   "source": [
    "## 1st half of the dataset"
   ]
  },
  {
   "cell_type": "markdown",
   "id": "e402ca8a-a49b-4970-9bf3-50016e636b02",
   "metadata": {},
   "source": [
    "##### (assumed that dataset and previous calculations are already in the same directory as this file)"
   ]
  },
  {
   "cell_type": "code",
   "execution_count": 3,
   "id": "bf2de84b-a614-4eb7-9b4d-4d8f38c875c2",
   "metadata": {},
   "outputs": [],
   "source": [
    "dataCols = ['i_tp', 'i_fp', 'i_tn', 'i_fn', 'j_tp', 'j_fp', 'j_tn', 'j_fn']"
   ]
  },
  {
   "cell_type": "code",
   "execution_count": 4,
   "id": "13078a92-eda0-47b1-8ab6-d90c34953a8b",
   "metadata": {},
   "outputs": [
    {
     "data": {
      "text/html": [
       "<div>\n",
       "<style scoped>\n",
       "    .dataframe tbody tr th:only-of-type {\n",
       "        vertical-align: middle;\n",
       "    }\n",
       "\n",
       "    .dataframe tbody tr th {\n",
       "        vertical-align: top;\n",
       "    }\n",
       "\n",
       "    .dataframe thead th {\n",
       "        text-align: right;\n",
       "    }\n",
       "</style>\n",
       "<table border=\"1\" class=\"dataframe\">\n",
       "  <thead>\n",
       "    <tr style=\"text-align: right;\">\n",
       "      <th></th>\n",
       "      <th>i_tp</th>\n",
       "      <th>i_fp</th>\n",
       "      <th>i_tn</th>\n",
       "      <th>i_fn</th>\n",
       "      <th>j_tp</th>\n",
       "      <th>j_fp</th>\n",
       "      <th>j_tn</th>\n",
       "      <th>j_fn</th>\n",
       "    </tr>\n",
       "  </thead>\n",
       "  <tbody>\n",
       "    <tr>\n",
       "      <th>0</th>\n",
       "      <td>56</td>\n",
       "      <td>0</td>\n",
       "      <td>0</td>\n",
       "      <td>0</td>\n",
       "      <td>0</td>\n",
       "      <td>0</td>\n",
       "      <td>0</td>\n",
       "      <td>0</td>\n",
       "    </tr>\n",
       "    <tr>\n",
       "      <th>1</th>\n",
       "      <td>55</td>\n",
       "      <td>1</td>\n",
       "      <td>0</td>\n",
       "      <td>0</td>\n",
       "      <td>0</td>\n",
       "      <td>0</td>\n",
       "      <td>0</td>\n",
       "      <td>0</td>\n",
       "    </tr>\n",
       "    <tr>\n",
       "      <th>2</th>\n",
       "      <td>55</td>\n",
       "      <td>0</td>\n",
       "      <td>1</td>\n",
       "      <td>0</td>\n",
       "      <td>0</td>\n",
       "      <td>0</td>\n",
       "      <td>0</td>\n",
       "      <td>0</td>\n",
       "    </tr>\n",
       "    <tr>\n",
       "      <th>3</th>\n",
       "      <td>55</td>\n",
       "      <td>0</td>\n",
       "      <td>0</td>\n",
       "      <td>1</td>\n",
       "      <td>0</td>\n",
       "      <td>0</td>\n",
       "      <td>0</td>\n",
       "      <td>0</td>\n",
       "    </tr>\n",
       "    <tr>\n",
       "      <th>4</th>\n",
       "      <td>55</td>\n",
       "      <td>0</td>\n",
       "      <td>0</td>\n",
       "      <td>0</td>\n",
       "      <td>1</td>\n",
       "      <td>0</td>\n",
       "      <td>0</td>\n",
       "      <td>0</td>\n",
       "    </tr>\n",
       "  </tbody>\n",
       "</table>\n",
       "</div>"
      ],
      "text/plain": [
       "   i_tp  i_fp  i_tn  i_fn  j_tp  j_fp  j_tn  j_fn\n",
       "0    56     0     0     0     0     0     0     0\n",
       "1    55     1     0     0     0     0     0     0\n",
       "2    55     0     1     0     0     0     0     0\n",
       "3    55     0     0     1     0     0     0     0\n",
       "4    55     0     0     0     1     0     0     0"
      ]
     },
     "execution_count": 4,
     "metadata": {},
     "output_type": "execute_result"
    }
   ],
   "source": [
    "with open('Set(08,56).bin', \"rb\") as f:\n",
    "    df = pd.DataFrame(pickle.load(f), columns = dataCols)\n",
    "\n",
    "halfIdx = int(df.shape[0]/2)\n",
    "df = df.iloc[:halfIdx]\n",
    "df.head()"
   ]
  },
  {
   "cell_type": "code",
   "execution_count": 6,
   "id": "fb484f51-5f7a-4474-bec9-6ffbd1bad336",
   "metadata": {},
   "outputs": [
    {
     "name": "stdout",
     "output_type": "stream",
     "text": [
      "<class 'pandas.core.frame.DataFrame'>\n",
      "RangeIndex: 276635335 entries, 0 to 276635334\n",
      "Data columns (total 8 columns):\n",
      " #   Column  Dtype\n",
      "---  ------  -----\n",
      " 0   i_tp    int8 \n",
      " 1   i_fp    int8 \n",
      " 2   i_tn    int8 \n",
      " 3   i_fn    int8 \n",
      " 4   j_tp    int8 \n",
      " 5   j_fp    int8 \n",
      " 6   j_tn    int8 \n",
      " 7   j_fn    int8 \n",
      "dtypes: int8(8)\n",
      "memory usage: 2.1 GB\n"
     ]
    }
   ],
   "source": [
    "df.info(memory_usage=\"deep\")"
   ]
  },
  {
   "cell_type": "code",
   "execution_count": 7,
   "id": "6fa3a217-14d2-45ad-a103-24f6bc615a35",
   "metadata": {},
   "outputs": [],
   "source": [
    "with open(\"stat_parity.bin\", \"wb+\") as f:\n",
    "    get_statistical_parity(df).to_numpy().tofile(f)\n",
    "\n",
    "with open(\"disp_impact.bin\", \"wb+\") as f:\n",
    "    get_disparate_impact(df).to_numpy().tofile(f)\n",
    "\n",
    "with open(\"acc_equality_ratio.bin\", \"wb+\") as f:\n",
    "    get_acc_equality_ratio(df).to_numpy().tofile(f)\n",
    "\n",
    "with open(\"acc_equality_diff.bin\", \"wb+\") as f:\n",
    "    get_acc_equality_diff(df).to_numpy().tofile(f)"
   ]
  },
  {
   "cell_type": "code",
   "execution_count": null,
   "id": "28459f75-ad11-446e-a43f-1c47415f8684",
   "metadata": {},
   "outputs": [],
   "source": [
    "# Free the memory\n",
    "del df\n",
    "gc.collect()\n",
    "gc.get_stats()"
   ]
  },
  {
   "cell_type": "markdown",
   "id": "4974f448-16e0-409c-914f-9b7248f009bf",
   "metadata": {},
   "source": [
    "## 2nd half of the dataset"
   ]
  },
  {
   "cell_type": "code",
   "execution_count": 9,
   "id": "dd2fc016-4fde-434a-8290-fa50b493c668",
   "metadata": {},
   "outputs": [],
   "source": [
    "with open(\"Set(08,56).bin\", \"rb\") as f:\n",
    "    df = pd.DataFrame(pickle.load(f), columns = dataCols)\n",
    "\n",
    "halfIdx = int(df.shape[0]/2)\n",
    "df = df.iloc[halfIdx:]"
   ]
  },
  {
   "cell_type": "code",
   "execution_count": 11,
   "id": "43d68545-5b67-4fd0-b90d-b8aa0936c254",
   "metadata": {},
   "outputs": [
    {
     "name": "stdout",
     "output_type": "stream",
     "text": [
      "<class 'pandas.core.frame.DataFrame'>\n",
      "RangeIndex: 276635336 entries, 276635335 to 553270670\n",
      "Data columns (total 8 columns):\n",
      " #   Column  Dtype\n",
      "---  ------  -----\n",
      " 0   i_tp    int8 \n",
      " 1   i_fp    int8 \n",
      " 2   i_tn    int8 \n",
      " 3   i_fn    int8 \n",
      " 4   j_tp    int8 \n",
      " 5   j_fp    int8 \n",
      " 6   j_tn    int8 \n",
      " 7   j_fn    int8 \n",
      "dtypes: int8(8)\n",
      "memory usage: 2.1 GB\n"
     ]
    }
   ],
   "source": [
    "df.info(memory_usage=\"deep\")"
   ]
  },
  {
   "cell_type": "code",
   "execution_count": 12,
   "id": "7a8e193b-24b5-449d-85ce-7b0aefc2675f",
   "metadata": {},
   "outputs": [],
   "source": [
    "with open(\"stat_parity.bin\", \"ab+\") as f:\n",
    "    get_statistical_parity(df).to_numpy().tofile(f)\n",
    "\n",
    "with open(\"disp_impact.bin\", \"ab+\") as f:\n",
    "    get_disparate_impact(df).to_numpy().tofile(f)\n",
    "\n",
    "with open(\"acc_equality_ratio.bin\", \"ab+\") as f:\n",
    "    get_acc_equality_ratio(df).to_numpy().tofile(f)\n",
    "\n",
    "with open(\"acc_equality_diff.bin\", \"ab+\") as f:\n",
    "    get_acc_equality_diff(df).to_numpy().tofile(f)"
   ]
  },
  {
   "cell_type": "code",
   "execution_count": null,
   "id": "4713bad3-1e7b-4965-aa71-9c1b0e0121f4",
   "metadata": {},
   "outputs": [],
   "source": [
    "# Free the memory\n",
    "del df\n",
    "gc.collect()\n",
    "gc.get_stats()"
   ]
  },
  {
   "cell_type": "markdown",
   "id": "9b590978-ebcf-4ff8-922d-8965e235b38b",
   "metadata": {},
   "source": [
    "## Additional calculations based on previous ones"
   ]
  },
  {
   "cell_type": "markdown",
   "id": "65859890-2952-447a-bd3f-8324b405ae7b",
   "metadata": {},
   "source": [
    "##### (here we read not as float16, because it causes errors when we write calculations; we can cast it to 64 before writing, but it better read as 64 from the start)"
   ]
  },
  {
   "cell_type": "code",
   "execution_count": 4,
   "id": "98e6f553-2cb2-4a2a-b8e4-cd243cb0e48e",
   "metadata": {},
   "outputs": [],
   "source": [
    "with open(\"j_tpr.bin\", \"rb\") as f:\n",
    "    j_tpr = pd.DataFrame(np.fromfile(f), columns = [\"j_tpr\"])"
   ]
  },
  {
   "cell_type": "code",
   "execution_count": 5,
   "id": "637ff6ba-a5f9-4545-a282-aaa1aaaa72ae",
   "metadata": {},
   "outputs": [],
   "source": [
    "with open(\"i_tpr.bin\", \"rb\") as f:\n",
    "    i_tpr = pd.DataFrame(np.fromfile(f), columns = [\"i_tpr\"])"
   ]
  },
  {
   "cell_type": "code",
   "execution_count": 8,
   "id": "4527ffcb-d593-4e3b-9457-f43ed6f020c8",
   "metadata": {},
   "outputs": [],
   "source": [
    "with open(\"equal_opp_ratio.bin\", \"wb+\") as f:\n",
    "    get_equal_opp_ratio(j_tpr['j_tpr'], i_tpr['i_tpr']).to_numpy().tofile(f)\n",
    "    \n",
    "with open(\"equal_opp_diff.bin\", \"wb+\") as f:\n",
    "    get_equal_opp_diff(j_tpr['j_tpr'], i_tpr['i_tpr']).to_numpy().tofile(f)"
   ]
  },
  {
   "cell_type": "code",
   "execution_count": 9,
   "id": "db804bb1-e5bd-44a8-bae0-0a087a35305f",
   "metadata": {},
   "outputs": [
    {
     "data": {
      "text/plain": [
       "[{'collections': 311, 'collected': 2771, 'uncollectable': 0},\n",
       " {'collections': 28, 'collected': 537, 'uncollectable': 0},\n",
       " {'collections': 3, 'collected': 54, 'uncollectable': 0}]"
      ]
     },
     "execution_count": 9,
     "metadata": {},
     "output_type": "execute_result"
    }
   ],
   "source": [
    "del j_tpr\n",
    "del i_tpr\n",
    "gc.collect()\n",
    "gc.get_stats()"
   ]
  },
  {
   "cell_type": "code",
   "execution_count": null,
   "id": "f7c8d7ef-7277-4ac5-bd2f-f2e1fa1c9904",
   "metadata": {},
   "outputs": [],
   "source": []
  },
  {
   "cell_type": "code",
   "execution_count": null,
   "id": "e60bf5b8-7819-435a-9adb-3265900039f9",
   "metadata": {},
   "outputs": [],
   "source": [
    "with open(\"j_fpr.bin\", \"rb\") as f:\n",
    "    j_fpr = pd.DataFrame(np.fromfile(f), columns = [\"j_fpr\"])"
   ]
  },
  {
   "cell_type": "code",
   "execution_count": 11,
   "id": "44801dbd-eca7-4648-88a6-00e24581dfad",
   "metadata": {},
   "outputs": [],
   "source": [
    "with open(\"i_fpr.bin\", \"rb\") as f:\n",
    "    i_fpr = pd.DataFrame(np.fromfile(f), columns = [\"i_fpr\"])"
   ]
  },
  {
   "cell_type": "code",
   "execution_count": 14,
   "id": "572f6994-23a5-4b1a-a1c8-8bc672d6a365",
   "metadata": {},
   "outputs": [],
   "source": [
    "with open(\"pred_equality_ratio.bin\", \"wb+\") as f:\n",
    "    get_pred_equality_ratio(j_fpr['j_fpr'], i_fpr['i_fpr']).to_numpy().tofile(f)\n",
    "    \n",
    "with open(\"pred_equality_diff.bin\", \"wb+\") as f:\n",
    "    get_pred_equality_diff(j_fpr['j_fpr'], i_fpr['i_fpr']).to_numpy().tofile(f)"
   ]
  },
  {
   "cell_type": "code",
   "execution_count": 15,
   "id": "242043bc-8792-4c3c-8dfb-aa8189662b03",
   "metadata": {},
   "outputs": [
    {
     "data": {
      "text/plain": [
       "[{'collections': 311, 'collected': 2771, 'uncollectable': 0},\n",
       " {'collections': 28, 'collected': 537, 'uncollectable': 0},\n",
       " {'collections': 4, 'collected': 54, 'uncollectable': 0}]"
      ]
     },
     "execution_count": 15,
     "metadata": {},
     "output_type": "execute_result"
    }
   ],
   "source": [
    "del j_fpr\n",
    "del i_fpr\n",
    "gc.collect()\n",
    "gc.get_stats()"
   ]
  },
  {
   "cell_type": "code",
   "execution_count": null,
   "id": "819f3d0a-3cda-4c94-98ac-6e23a713fe64",
   "metadata": {},
   "outputs": [],
   "source": []
  },
  {
   "cell_type": "code",
   "execution_count": 16,
   "id": "9068ec06-31cd-433a-9c4b-af055dc56edf",
   "metadata": {},
   "outputs": [],
   "source": [
    "with open(\"j_ppv.bin\", \"rb\") as f:\n",
    "    j_ppv = pd.DataFrame(np.fromfile(f), columns = [\"j_ppv\"])"
   ]
  },
  {
   "cell_type": "code",
   "execution_count": 17,
   "id": "f312623d-2ff0-4d66-96e7-214100b46b94",
   "metadata": {},
   "outputs": [],
   "source": [
    "with open(\"i_ppv.bin\", \"rb\") as f:\n",
    "    i_ppv = pd.DataFrame(np.fromfile(f), columns = [\"i_ppv\"])"
   ]
  },
  {
   "cell_type": "code",
   "execution_count": 20,
   "id": "d2358d97-a84d-4a8a-819f-1cd2741c6323",
   "metadata": {},
   "outputs": [],
   "source": [
    "with open(\"pred_parity_ratio.bin\", \"wb+\") as f:\n",
    "    get_pred_parity_ratio(j_ppv['j_ppv'], i_ppv['i_ppv']).to_numpy().tofile(f)\n",
    "\n",
    "with open(\"pos_pred_parity_diff.bin\", \"wb+\") as f:\n",
    "    get_pos_pred_parity_diff(j_ppv['j_ppv'], i_ppv['i_ppv']).to_numpy().tofile(f)"
   ]
  },
  {
   "cell_type": "code",
   "execution_count": 21,
   "id": "2aa265d1-758d-44d6-8f5d-6958ea468967",
   "metadata": {},
   "outputs": [
    {
     "data": {
      "text/plain": [
       "[{'collections': 311, 'collected': 2771, 'uncollectable': 0},\n",
       " {'collections': 28, 'collected': 537, 'uncollectable': 0},\n",
       " {'collections': 5, 'collected': 54, 'uncollectable': 0}]"
      ]
     },
     "execution_count": 21,
     "metadata": {},
     "output_type": "execute_result"
    }
   ],
   "source": [
    "del j_ppv\n",
    "del i_ppv\n",
    "gc.collect()\n",
    "gc.get_stats()"
   ]
  },
  {
   "cell_type": "code",
   "execution_count": null,
   "id": "aabb976e-68b3-47ce-bfdc-fe4c0a924a16",
   "metadata": {},
   "outputs": [],
   "source": []
  },
  {
   "cell_type": "code",
   "execution_count": 3,
   "id": "83a06509-b0f4-496e-a36e-8f90a8c193bd",
   "metadata": {},
   "outputs": [],
   "source": [
    "with open(\"j_npv.bin\", \"rb\") as f:\n",
    "    j_npv = pd.DataFrame(np.fromfile(f), columns = [\"j_npv\"])"
   ]
  },
  {
   "cell_type": "code",
   "execution_count": 4,
   "id": "cc9e32dc-5384-4814-84ab-ba4b829f660b",
   "metadata": {},
   "outputs": [],
   "source": [
    "with open(\"i_npv.bin\", \"rb\") as f:\n",
    "    i_npv = pd.DataFrame(np.fromfile(f), columns = [\"i_npv\"])"
   ]
  },
  {
   "cell_type": "code",
   "execution_count": 5,
   "id": "696919e7-81b0-430f-86e5-39fdb188b8f4",
   "metadata": {},
   "outputs": [],
   "source": [
    "with open(\"neg_pred_parity_ratio.bin\", \"wb+\") as f:\n",
    "    get_neg_pred_parity_ratio(j_npv['j_npv'], i_npv['i_npv']).to_numpy().tofile(f)\n",
    "\n",
    "with open(\"neg_pred_parity_diff.bin\", \"wb+\") as f:\n",
    "    get_neg_pred_parity_diff(j_npv['j_npv'], i_npv['i_npv']).to_numpy().tofile(f)"
   ]
  },
  {
   "cell_type": "code",
   "execution_count": 6,
   "id": "47d4ee04-b86e-4eb7-ab6c-1475742239ee",
   "metadata": {},
   "outputs": [
    {
     "data": {
      "text/plain": [
       "[{'collections': 310, 'collected': 2771, 'uncollectable': 0},\n",
       " {'collections': 28, 'collected': 537, 'uncollectable': 0},\n",
       " {'collections': 3, 'collected': 54, 'uncollectable': 0}]"
      ]
     },
     "execution_count": 6,
     "metadata": {},
     "output_type": "execute_result"
    }
   ],
   "source": [
    "del j_npv\n",
    "del i_npv\n",
    "gc.collect()\n",
    "gc.get_stats()"
   ]
  }
 ],
 "metadata": {
  "kernelspec": {
   "display_name": "Python [conda env:DS]",
   "language": "python",
   "name": "conda-env-DS-py"
  },
  "language_info": {
   "codemirror_mode": {
    "name": "ipython",
    "version": 3
   },
   "file_extension": ".py",
   "mimetype": "text/x-python",
   "name": "python",
   "nbconvert_exporter": "python",
   "pygments_lexer": "ipython3",
   "version": "3.10.4"
  }
 },
 "nbformat": 4,
 "nbformat_minor": 5
}
